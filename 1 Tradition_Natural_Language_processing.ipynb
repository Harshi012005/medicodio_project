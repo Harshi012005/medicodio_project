{
 "cells": [
  {
   "cell_type": "markdown",
   "id": "1c6dca4d-fc83-459a-b4b0-b7f3fb6a01f4",
   "metadata": {},
   "source": [
    "# Traditional Based Natural Langauge Processing"
   ]
  },
  {
   "cell_type": "markdown",
   "id": "9602df87-04bb-468f-b389-b23321b91e34",
   "metadata": {},
   "source": [
    "## Imported the required library\n",
    "\n",
    "##### * fitz -> Required to read and extract text from the pdf files\n",
    "##### * re -> Used for regular expressions to find patterns like ICD-10 codes, CPT codes, or keywords in text.\n",
    "##### * json -> Used to create and save structured JSON output from the extracted clinical information. "
   ]
  },
  {
   "cell_type": "code",
   "execution_count": 17,
   "id": "ddbee8e6-568e-43e7-84c7-e880e86cfd48",
   "metadata": {},
   "outputs": [],
   "source": [
    "import fitz  \n",
    "import re\n",
    "import json"
   ]
  },
  {
   "cell_type": "markdown",
   "id": "385f90bf-090f-4634-a2b2-7d5c7bcde03e",
   "metadata": {},
   "source": [
    "### Extract text from PDF"
   ]
  },
  {
   "cell_type": "code",
   "execution_count": 18,
   "id": "e36c062d-98e0-4a63-a1f1-65116f8be292",
   "metadata": {},
   "outputs": [],
   "source": [
    "def extract_text_from_pdf(pdf_path):\n",
    "    text = \"\"\n",
    "    with fitz.open(pdf_path) as doc:\n",
    "        for page in doc:\n",
    "            text += page.get_text(\"text\") + \"\\n\"\n",
    "    return text.strip()"
   ]
  },
  {
   "cell_type": "markdown",
   "id": "3be36648-f0fd-4be2-8845-5352eeeccc60",
   "metadata": {},
   "source": [
    "### Define keyword lexicons (Traditional NLP)"
   ]
  },
  {
   "cell_type": "code",
   "execution_count": 19,
   "id": "7bebf5e0-f92f-496e-a047-1446eca3cb94",
   "metadata": {},
   "outputs": [],
   "source": [
    "clinical_terms_keywords = [\n",
    "    \"bleeding\", \"erosion\", \"hemorrhoids\", \"diverticulosis\", \"polyps\", \"gastritis\",\n",
    "    \"Barrett\", \"colonoscopy\", \"biopsy\", \"melanosis\", \"proctitis\", \"ulcer\", \"pain\",\n",
    "    \"chest pain\", \"abdominal pain\", \"Barrett's esophagus\"\n",
    "]\n",
    "\n",
    "anatomical_locations_keywords = [\n",
    "    \"rectum\", \"anal verge\", \"anus\", \"cecum\", \"sigmoid colon\", \"ascending colon\",\n",
    "    \"transverse colon\", \"descending colon\", \"hepatic flexure\", \"splenic flexure\",\n",
    "    \"stomach\", \"duodenum\", \"esophagus\", \"ileum\", \"colon\", \"right upper quadrant\"\n",
    "]\n",
    "\n",
    "procedures_keywords = [\n",
    "    \"colonoscopy\", \"EGD\", \"EGD with biopsy\", \"biopsy\", \"retroflexion\"\n",
    "]"
   ]
  },
  {
   "cell_type": "markdown",
   "id": "38132ee8-3377-467a-beda-90397879f51d",
   "metadata": {},
   "source": [
    "### Regex for code extraction"
   ]
  },
  {
   "cell_type": "code",
   "execution_count": 20,
   "id": "947ae97e-0ac7-4d19-8343-11d4335a0209",
   "metadata": {},
   "outputs": [],
   "source": [
    "def extract_icd_codes(text):\n",
    "    return list(set(re.findall(r'\\b[A-Z]\\d{1,2}\\.?\\d*\\b', text)))\n",
    "\n",
    "def extract_cpt_codes(text):\n",
    "    return list(set(re.findall(r'\\b\\d{5}\\b', text)))\n",
    "\n",
    "def extract_hcpcs_codes(text):\n",
    "    return list(set(re.findall(r'\\b[A-Z]\\d{4}\\b', text)))"
   ]
  },
  {
   "cell_type": "markdown",
   "id": "0d5b754f-e7d9-4d24-adaa-021e9aaf3419",
   "metadata": {},
   "source": [
    "### Keyword search using Traditional NLP"
   ]
  },
  {
   "cell_type": "code",
   "execution_count": 21,
   "id": "27f291d4-9762-41a3-acbc-c2da70807f98",
   "metadata": {},
   "outputs": [],
   "source": [
    "def extract_terms(text, keywords):\n",
    "    found = []\n",
    "    for k in keywords:\n",
    "        if re.search(r'\\b' + re.escape(k) + r'\\b', text, re.IGNORECASE):\n",
    "            found.append(k)\n",
    "    return list(set(found))"
   ]
  },
  {
   "cell_type": "markdown",
   "id": "c093d39f-22bb-48df-ae79-bd021158a8eb",
   "metadata": {},
   "source": [
    "### Process report into structured JSON"
   ]
  },
  {
   "cell_type": "code",
   "execution_count": 22,
   "id": "95ca12fc-ce74-4458-a0b1-6a776e22981d",
   "metadata": {},
   "outputs": [],
   "source": [
    "def process_report(text, report_id=\"Report\"):\n",
    "    return {\n",
    "        \"ReportID\": report_id,\n",
    "        \"Clinical Terms\": extract_terms(text, clinical_terms_keywords),\n",
    "        \"Anatomical Locations\": extract_terms(text, anatomical_locations_keywords),\n",
    "        \"Diagnosis\": extract_terms(text, clinical_terms_keywords),\n",
    "        \"Procedures\": extract_terms(text, procedures_keywords),\n",
    "        \"ICD-10\": extract_icd_codes(text),\n",
    "        \"CPT\": extract_cpt_codes(text),\n",
    "        \"HCPCS\": extract_hcpcs_codes(text)\n",
    "    }"
   ]
  },
  {
   "cell_type": "markdown",
   "id": "2d0cc94b-0a5a-4752-86da-7ac8c6deacdf",
   "metadata": {},
   "source": [
    "### Main Function"
   ]
  },
  {
   "cell_type": "code",
   "execution_count": 24,
   "id": "9c1bcdcb-c2e0-442c-8c24-09d60fda6c51",
   "metadata": {},
   "outputs": [
    {
     "name": "stdout",
     "output_type": "stream",
     "text": [
      "[\n",
      "    {\n",
      "        \"ReportID\": \"Report 1\",\n",
      "        \"Clinical Terms\": [\n",
      "            \"polyps\",\n",
      "            \"diverticulosis\",\n",
      "            \"melanosis\",\n",
      "            \"colonoscopy\",\n",
      "            \"hemorrhoids\"\n",
      "        ],\n",
      "        \"Anatomical Locations\": [\n",
      "            \"colon\",\n",
      "            \"cecum\",\n",
      "            \"rectum\"\n",
      "        ],\n",
      "        \"Diagnosis\": [\n",
      "            \"polyps\",\n",
      "            \"diverticulosis\",\n",
      "            \"melanosis\",\n",
      "            \"colonoscopy\",\n",
      "            \"hemorrhoids\"\n",
      "        ],\n",
      "        \"Procedures\": [\n",
      "            \"colonoscopy\"\n",
      "        ],\n",
      "        \"ICD-10\": [\n",
      "            \"K57.90\",\n",
      "            \"Z86.0100\",\n",
      "            \"K64.8\"\n",
      "        ],\n",
      "        \"CPT\": [],\n",
      "        \"HCPCS\": []\n",
      "    },\n",
      "    {\n",
      "        \"ReportID\": \"Report 2\",\n",
      "        \"Clinical Terms\": [\n",
      "            \"polyps\",\n",
      "            \"colonoscopy\",\n",
      "            \"hemorrhoids\"\n",
      "        ],\n",
      "        \"Anatomical Locations\": [\n",
      "            \"sigmoid colon\",\n",
      "            \"ascending colon\",\n",
      "            \"descending colon\",\n",
      "            \"ileum\",\n",
      "            \"cecum\",\n",
      "            \"splenic flexure\",\n",
      "            \"colon\",\n",
      "            \"hepatic flexure\",\n",
      "            \"transverse colon\",\n",
      "            \"rectum\"\n",
      "        ],\n",
      "        \"Diagnosis\": [\n",
      "            \"polyps\",\n",
      "            \"colonoscopy\",\n",
      "            \"hemorrhoids\"\n",
      "        ],\n",
      "        \"Procedures\": [\n",
      "            \"colonoscopy\"\n",
      "        ],\n",
      "        \"ICD-10\": [\n",
      "            \"Z12.11\",\n",
      "            \"K64.9\"\n",
      "        ],\n",
      "        \"CPT\": [],\n",
      "        \"HCPCS\": []\n",
      "    },\n",
      "    {\n",
      "        \"ReportID\": \"Report 3\",\n",
      "        \"Clinical Terms\": [\n",
      "            \"ulcer\",\n",
      "            \"erosion\",\n",
      "            \"proctitis\",\n",
      "            \"bleeding\",\n",
      "            \"biopsy\",\n",
      "            \"colonoscopy\",\n",
      "            \"hemorrhoids\"\n",
      "        ],\n",
      "        \"Anatomical Locations\": [\n",
      "            \"anal verge\",\n",
      "            \"anus\",\n",
      "            \"colon\",\n",
      "            \"cecum\",\n",
      "            \"transverse colon\",\n",
      "            \"rectum\"\n",
      "        ],\n",
      "        \"Diagnosis\": [\n",
      "            \"ulcer\",\n",
      "            \"erosion\",\n",
      "            \"proctitis\",\n",
      "            \"bleeding\",\n",
      "            \"biopsy\",\n",
      "            \"colonoscopy\",\n",
      "            \"hemorrhoids\"\n",
      "        ],\n",
      "        \"Procedures\": [\n",
      "            \"biopsy\",\n",
      "            \"colonoscopy\"\n",
      "        ],\n",
      "        \"ICD-10\": [\n",
      "            \"K62.5\",\n",
      "            \"K62.6\",\n",
      "            \"K64.8\"\n",
      "        ],\n",
      "        \"CPT\": [\n",
      "            \"45380\"\n",
      "        ],\n",
      "        \"HCPCS\": []\n",
      "    },\n",
      "    {\n",
      "        \"ReportID\": \"Report 4\",\n",
      "        \"Clinical Terms\": [\n",
      "            \"chest pain\",\n",
      "            \"pain\",\n",
      "            \"gastritis\",\n",
      "            \"Barrett\",\n",
      "            \"abdominal pain\",\n",
      "            \"Barrett's esophagus\",\n",
      "            \"biopsy\"\n",
      "        ],\n",
      "        \"Anatomical Locations\": [\n",
      "            \"esophagus\",\n",
      "            \"stomach\",\n",
      "            \"duodenum\",\n",
      "            \"right upper quadrant\"\n",
      "        ],\n",
      "        \"Diagnosis\": [\n",
      "            \"chest pain\",\n",
      "            \"pain\",\n",
      "            \"gastritis\",\n",
      "            \"Barrett\",\n",
      "            \"abdominal pain\",\n",
      "            \"Barrett's esophagus\",\n",
      "            \"biopsy\"\n",
      "        ],\n",
      "        \"Procedures\": [\n",
      "            \"biopsy\",\n",
      "            \"EGD with biopsy\",\n",
      "            \"EGD\"\n",
      "        ],\n",
      "        \"ICD-10\": [\n",
      "            \"K29.70\",\n",
      "            \"R07.89\",\n",
      "            \"R10.11\"\n",
      "        ],\n",
      "        \"CPT\": [],\n",
      "        \"HCPCS\": []\n",
      "    }\n",
      "]\n"
     ]
    }
   ],
   "source": [
    "def main():\n",
    "    # Provide your PDF file path here 👇\n",
    "    pdf_path = \"clinicalreport.pdf\"\n",
    "\n",
    "    # Extract text from PDF\n",
    "    text = extract_text_from_pdf(pdf_path)\n",
    "\n",
    "    # If your PDF has multiple reports, you can split by keyword like “Report”\n",
    "    reports = re.split(r'\\bReport\\s*\\d+:', text, flags=re.IGNORECASE)\n",
    "    reports = [r.strip() for r in reports if r.strip()]\n",
    "\n",
    "    all_json = []\n",
    "    for i, report_text in enumerate(reports):\n",
    "        report_json = process_report(report_text, report_id=f\"Report {i+1}\")\n",
    "        all_json.append(report_json)\n",
    "\n",
    "    # Save to JSON\n",
    "    with open(\"clinical_reports_traditional.json\", \"w\") as f:\n",
    "        json.dump(all_json, f, indent=4)\n",
    "\n",
    "    # Print neatly\n",
    "    print(json.dumps(all_json, indent=4))\n",
    "\n",
    "if __name__ == \"__main__\":\n",
    "    main()"
   ]
  },
  {
   "cell_type": "code",
   "execution_count": null,
   "id": "20417315-5f1c-45e4-8ce8-c77f7f7ef3ab",
   "metadata": {},
   "outputs": [],
   "source": []
  }
 ],
 "metadata": {
  "kernelspec": {
   "display_name": "Python 3 (ipykernel)",
   "language": "python",
   "name": "python3"
  },
  "language_info": {
   "codemirror_mode": {
    "name": "ipython",
    "version": 3
   },
   "file_extension": ".py",
   "mimetype": "text/x-python",
   "name": "python",
   "nbconvert_exporter": "python",
   "pygments_lexer": "ipython3",
   "version": "3.12.10"
  }
 },
 "nbformat": 4,
 "nbformat_minor": 5
}
